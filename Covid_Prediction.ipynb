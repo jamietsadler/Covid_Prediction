{
  "nbformat": 4,
  "nbformat_minor": 0,
  "metadata": {
    "colab": {
      "name": "Covid_Prediction.ipynb",
      "provenance": [],
      "collapsed_sections": []
    },
    "kernelspec": {
      "name": "python3",
      "display_name": "Python 3"
    }
  },
  "cells": [
    {
      "cell_type": "code",
      "metadata": {
        "id": "zLN3HAW8b9dq"
      },
      "source": [
        "import tensorflow as tf\r\n",
        "from tensorflow import keras\r\n",
        "from tensorflow.keras.models import Sequential\r\n",
        "from tensorflow.keras.preprocessing.image import ImageDataGenerator\r\n",
        "\r\n",
        "from tensorflow.keras.callbacks import EarlyStopping\r\n",
        "from tensorflow.keras import layers\r\n",
        "import numpy as np\r\n",
        "import matplotlib.pyplot as plt"
      ],
      "execution_count": 50,
      "outputs": []
    },
    {
      "cell_type": "markdown",
      "metadata": {
        "id": "15-j6iDFk-vG"
      },
      "source": [
        "Load & Preprocess Data"
      ]
    },
    {
      "cell_type": "code",
      "metadata": {
        "colab": {
          "base_uri": "https://localhost:8080/"
        },
        "id": "P4pBT3PCiJ9X",
        "outputId": "aef30864-70fa-42b6-faca-6e7d3514f569"
      },
      "source": [
        "from google.colab import drive\r\n",
        "drive.mount('/content/gdrive')"
      ],
      "execution_count": null,
      "outputs": [
        {
          "output_type": "stream",
          "text": [
            "Mounted at /content/gdrive\n"
          ],
          "name": "stdout"
        }
      ]
    },
    {
      "cell_type": "code",
      "metadata": {
        "id": "MfD_mxeNg-Zm"
      },
      "source": [
        "BATCH_SIZE = 5"
      ],
      "execution_count": 13,
      "outputs": []
    },
    {
      "cell_type": "code",
      "metadata": {
        "colab": {
          "base_uri": "https://localhost:8080/"
        },
        "id": "dxdkn0_Wfuj7",
        "outputId": "3dbccfeb-7e5c-42ca-f907-63837fcf4cd5"
      },
      "source": [
        "training_data_generator = ImageDataGenerator(rescale=1.0/255, zoom_range=0.2, rotation_range=15, width_shift_range=0.05, height_shift_range=0.05)\r\n",
        "training_iterator = training_data_generator.flow_from_directory(\"/content/drive/My Drive/Covid19-dataset/train\", class_mode=\"categorical\", color_mode=\"grayscale\", batch_size=BATCH_SIZE)"
      ],
      "execution_count": 14,
      "outputs": [
        {
          "output_type": "stream",
          "text": [
            "Found 251 images belonging to 3 classes.\n"
          ],
          "name": "stdout"
        }
      ]
    },
    {
      "cell_type": "code",
      "metadata": {
        "id": "0uSapN2Ehd4m",
        "colab": {
          "base_uri": "https://localhost:8080/"
        },
        "outputId": "aebe790f-4674-4ea8-c97a-d18ef0b7d642"
      },
      "source": [
        "validation_data_generator = ImageDataGenerator(rescale=1.0/255)\r\n",
        "validation_iterator = validation_data_generator.flow_from_directory(\"/content/drive/My Drive/Covid19-dataset/test\", class_mode=\"categorical\", color_mode=\"grayscale\")"
      ],
      "execution_count": 15,
      "outputs": [
        {
          "output_type": "stream",
          "text": [
            "Found 66 images belonging to 3 classes.\n"
          ],
          "name": "stdout"
        }
      ]
    },
    {
      "cell_type": "markdown",
      "metadata": {
        "id": "Qb9KiObjlGFP"
      },
      "source": [
        "Model Creation"
      ]
    },
    {
      "cell_type": "code",
      "metadata": {
        "colab": {
          "base_uri": "https://localhost:8080/"
        },
        "id": "SVK6A6-hkqFw",
        "outputId": "9564bff8-8358-43c3-c50f-cbabff1ac6a8"
      },
      "source": [
        "model = tf.keras.Sequential()\r\n",
        "model.add(layers.Input(shape=(256, 256, 1)))\r\n",
        "model.add(layers.Conv2D(5, 5, strides=3, padding=\"valid\", activation=\"relu\"))\r\n",
        "model.add(layers.MaxPooling2D(pool_size=(5,5), strides=(3,3), padding=\"valid\"))\r\n",
        "model.add(layers.Conv2D(5, 3, strides=3, padding=\"valid\", activation=\"relu\"))\r\n",
        "model.add(layers.MaxPooling2D(pool_size=(2,2), strides=(2,2), padding=\"valid\"))\r\n",
        "#model.add(layers.Conv2D(2, 1, strides=1, padding=\"valid\", activation=\"relu\"))\r\n",
        "#model.add(layers.MaxPooling2D(pool_size=(1,1), strides=(3,3), padding=\"valid\"))\r\n",
        "model.add(layers.Flatten())\r\n",
        "model.add(tf.keras.layers.Dense(8, activation=\"relu\"))\r\n",
        "model.add(layers.Dense(3, activation=\"softmax\"))\r\n",
        "\r\n",
        "model.summary()"
      ],
      "execution_count": 46,
      "outputs": [
        {
          "output_type": "stream",
          "text": [
            "Model: \"sequential_21\"\n",
            "_________________________________________________________________\n",
            "Layer (type)                 Output Shape              Param #   \n",
            "=================================================================\n",
            "conv2d_48 (Conv2D)           (None, 84, 84, 5)         130       \n",
            "_________________________________________________________________\n",
            "max_pooling2d_44 (MaxPooling (None, 27, 27, 5)         0         \n",
            "_________________________________________________________________\n",
            "conv2d_49 (Conv2D)           (None, 9, 9, 5)           230       \n",
            "_________________________________________________________________\n",
            "max_pooling2d_45 (MaxPooling (None, 4, 4, 5)           0         \n",
            "_________________________________________________________________\n",
            "flatten_13 (Flatten)         (None, 80)                0         \n",
            "_________________________________________________________________\n",
            "dense_20 (Dense)             (None, 8)                 648       \n",
            "_________________________________________________________________\n",
            "dense_21 (Dense)             (None, 3)                 27        \n",
            "=================================================================\n",
            "Total params: 1,035\n",
            "Trainable params: 1,035\n",
            "Non-trainable params: 0\n",
            "_________________________________________________________________\n"
          ],
          "name": "stdout"
        }
      ]
    },
    {
      "cell_type": "code",
      "metadata": {
        "id": "4aFXj1hzl_KK"
      },
      "source": [
        "model.compile(optimizer=tf.keras.optimizers.Adam(learning_rate=0.01), loss=tf.keras.losses.CategoricalCrossentropy(), metrics=[tf.keras.metrics.CategoricalAccuracy(),tf.keras.metrics.AUC()])"
      ],
      "execution_count": 47,
      "outputs": []
    },
    {
      "cell_type": "code",
      "metadata": {
        "colab": {
          "base_uri": "https://localhost:8080/"
        },
        "id": "wyGvKFfpuTwt",
        "outputId": "69d918d9-96de-40f8-bd7f-c67299d52049"
      },
      "source": [
        "model.fit(training_iterator, steps_per_epoch=training_iterator.samples/BATCH_SIZE, epochs=5, validation_data = validation_iterator, validation_steps=validation_iterator.samples/BATCH_SIZE)"
      ],
      "execution_count": 48,
      "outputs": [
        {
          "output_type": "stream",
          "text": [
            "Epoch 1/5\n",
            "51/50 [==============================] - ETA: 0s - loss: 1.0954 - categorical_accuracy: 0.4303 - auc_3: 0.5655WARNING:tensorflow:Your input ran out of data; interrupting training. Make sure that your dataset or generator can generate at least `steps_per_epoch * epochs` batches (in this case, 13.2 batches). You may need to use the repeat() function when building your dataset.\n",
            "51/50 [==============================] - 4s 78ms/step - loss: 1.0954 - categorical_accuracy: 0.4303 - auc_3: 0.5655 - val_loss: 1.0907 - val_categorical_accuracy: 0.3939 - val_auc_3: 0.5626\n",
            "Epoch 2/5\n",
            "51/50 [==============================] - 3s 63ms/step - loss: 1.0523 - categorical_accuracy: 0.4422 - auc_3: 0.6473\n",
            "Epoch 3/5\n",
            "51/50 [==============================] - 3s 62ms/step - loss: 0.8347 - categorical_accuracy: 0.6056 - auc_3: 0.8014\n",
            "Epoch 4/5\n",
            "51/50 [==============================] - 3s 62ms/step - loss: 0.7796 - categorical_accuracy: 0.6693 - auc_3: 0.8361\n",
            "Epoch 5/5\n",
            "51/50 [==============================] - 3s 63ms/step - loss: 0.6929 - categorical_accuracy: 0.6853 - auc_3: 0.8682\n"
          ],
          "name": "stdout"
        },
        {
          "output_type": "execute_result",
          "data": {
            "text/plain": [
              "<tensorflow.python.keras.callbacks.History at 0x7fa4c14cb278>"
            ]
          },
          "metadata": {
            "tags": []
          },
          "execution_count": 48
        }
      ]
    },
    {
      "cell_type": "code",
      "metadata": {
        "id": "CK8t3YxxzPFi"
      },
      "source": [
        "from sklearn.metrics import classification_report\r\n",
        "from sklearn.metrics import confusion_matrix"
      ],
      "execution_count": 52,
      "outputs": []
    },
    {
      "cell_type": "code",
      "metadata": {
        "colab": {
          "base_uri": "https://localhost:8080/"
        },
        "id": "70ls32hxumvo",
        "outputId": "35a49062-4c91-4aa2-f071-b6b5389dff68"
      },
      "source": [
        "predictions = model.predict(validation_iterator)\r\n",
        "predicted_classes = np.argmax(predictions, axis=1)\r\n",
        "true_classes = validation_iterator.classes\r\n",
        "class_labels = list(validation_iterator.class_indices.keys())\r\n",
        "report = classification_report(true_classes, predicted_classes, target_names=class_labels)\r\n",
        "print(report)   "
      ],
      "execution_count": 53,
      "outputs": [
        {
          "output_type": "stream",
          "text": [
            "              precision    recall  f1-score   support\n",
            "\n",
            "       Covid       0.48      0.38      0.43        26\n",
            "      Normal       0.33      0.70      0.45        20\n",
            "   Pneumonia       0.00      0.00      0.00        20\n",
            "\n",
            "    accuracy                           0.36        66\n",
            "   macro avg       0.27      0.36      0.29        66\n",
            "weighted avg       0.29      0.36      0.30        66\n",
            "\n"
          ],
          "name": "stdout"
        }
      ]
    },
    {
      "cell_type": "code",
      "metadata": {
        "colab": {
          "base_uri": "https://localhost:8080/"
        },
        "id": "X0NJ_JbCzFRG",
        "outputId": "db3969af-e9b9-4f8b-cff6-4f0e2113c25e"
      },
      "source": [
        "cm=confusion_matrix(true_classes,predicted_classes)\r\n",
        "print(cm)"
      ],
      "execution_count": 54,
      "outputs": [
        {
          "output_type": "stream",
          "text": [
            "[[10 13  3]\n",
            " [ 6 14  0]\n",
            " [ 5 15  0]]\n"
          ],
          "name": "stdout"
        }
      ]
    },
    {
      "cell_type": "code",
      "metadata": {
        "id": "vM4YcdRGzbwe"
      },
      "source": [
        ""
      ],
      "execution_count": null,
      "outputs": []
    }
  ]
}